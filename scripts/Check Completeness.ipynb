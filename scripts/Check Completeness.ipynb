{
 "cells": [
  {
   "cell_type": "code",
   "execution_count": 1,
   "metadata": {},
   "outputs": [],
   "source": [
    "import os"
   ]
  },
  {
   "cell_type": "code",
   "execution_count": null,
   "metadata": {},
   "outputs": [],
   "source": [
    "\n",
    "algo:\n",
    "    Get image id\n",
    "    check if there is a duplicate id in the listdir of dirname (directories and file included)\n",
    "    \n",
    "# basepath = '/data1/dyang/Datasets/tmp_dir_imageExtract5/'\n",
    "# outdir = basepath\n",
    "# count = 0\n",
    "# for root, dirs, files in os.walk(basepath):\n",
    "#     for name in files:\n",
    "#         fname = os.path.join(root, name)\n",
    "#         if name[-3:] == \"png\" or:\n",
    "#             im = Image.open(fname)\n",
    "#             im.convert(\"RGB\")\n",
    "#             im.save(fname[:-3]+\"jpg\")\n",
    "#             os.remove(fname)\n",
    "#             fname = fname[:-3]+\"jpg\"\n",
    "#             name = name[-3]+\"jpg\"\n",
    "#         if name[-3:] == \"jpg\" and not \"_\" in name:\n",
    "#             print(fname)\n",
    "#             data = name.split('-')\n",
    "#             idx = \"\"\n",
    "#             if(len(data) == 1):\n",
    "#                 idx = \"0\"\n",
    "#             else:\n",
    "#                 idx = data[-1][:-4]\n",
    "#             relpath = os.path.relpath(fname,basepath)\n",
    "#             name1 = os.path.dirname(fname).split('/')[-1]\n",
    "#             new_path = '../'+name1+'_'+idx+\".jpg\"\n",
    "#             command = 'mv '+fname+' '+new_path\n",
    "#             #subprocess.call([command],shell=True)\n",
    "#             count+=1\n",
    "#             #print(count)"
   ]
  }
 ],
 "metadata": {
  "kernelspec": {
   "display_name": "Python 3",
   "language": "python",
   "name": "python3"
  },
  "language_info": {
   "codemirror_mode": {
    "name": "ipython",
    "version": 3
   },
   "file_extension": ".py",
   "mimetype": "text/x-python",
   "name": "python",
   "nbconvert_exporter": "python",
   "pygments_lexer": "ipython3",
   "version": "3.6.9"
  }
 },
 "nbformat": 4,
 "nbformat_minor": 4
}
